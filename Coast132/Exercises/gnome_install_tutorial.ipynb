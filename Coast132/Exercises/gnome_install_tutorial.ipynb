{
 "cells": [
  {
   "cell_type": "markdown",
   "metadata": {},
   "source": [
    "# Importing GNOME plotting tools"
   ]
  },
  {
   "cell_type": "markdown",
   "metadata": {},
   "source": [
    "Hi there. We're going to make the NOAA GNOME plotting tools work for us. I haven't used these before, so I'm going to document the steps that I go through to get this going. Figuring out how to get little snippets of code to work can be both infuriating and gratifying. When something doesn't work--or you don't know what to do next--it's maddening. But when you finally stumble on the right Stack Exchange post or someone's blog/tutorial and suddenly can make it work, it's almost like magic that you suddenly have a whole new set of tools at your disposal. With that, I hope you find some of this useful! "
   ]
  },
  {
   "cell_type": "markdown",
   "metadata": {},
   "source": [
    "## Step one: Getting the code we want to run"
   ]
  },
  {
   "cell_type": "markdown",
   "metadata": {},
   "source": [
    "We want to use the tools that have been developed by others to plot the output from the GNOME particle tracking simulations. In our case, these are available on a site called GitHub, a popular place for people to post code for others to use and/or contribute to. Some quick definitions before we move ahead:\n",
    "* code: the commands (or _syntax_) that we use to make calculations or plots within Pything\n",
    "* script: a file containing code. The .ipynb file can be considered to be a sort of interactive script\n",
    "* function: a portion of code that does a specific task, like calciulating distance between two given points. Functions can be defined within a script or module\n",
    "* module: a collection of code that provides a set of useful functions (amongst other things). `pandas` and `numpy` are examples of a module\n",
    "\n",
    "In GitHub-speak, all of the files that contain the modules that we want to use are contained in a _repository_--or _repo_. There are a number of ways to get modules into Python, and in this case we need to copy the files to our computer (which is most likely the computer that lives at geog132.ucsb.edu unless you installed Anaconda on your own machine). "
   ]
  },
  {
   "cell_type": "markdown",
   "metadata": {},
   "source": [
    "To easily copy the repo to our home directory, do the following: \n",
    "1. Open a new terminal. From the menu bar, select _File > New > Terminal_.\n",
    "\n",
    "    <img src='./file_new_terminal.png'></img>\n",
    "\n",
    "    The terminal will open a _command line prompt_. You should see something like the following:\n",
    "`jovyan@jupyter-yourname:~$`\n",
    "\n",
    "    * `jovyan` is the user (that's you, in this case)\n",
    "    * `jupyter-yourname` is the computer that you're logged into (which lives at geog132.ucsb.edu)\n",
    "    * The part after the colon `~` is the _path_, or where on the computer you're presently located. (The tilde `~` is shorthand for your _home directory_, which is actually `/home/joyvan`). \n",
    "    * Finally, the dollar sign `$` is the \"prompt\". It's how you know the computer is ready for a command.\n",
    "\n",
    "    We're going to enter a command into the command line to copy the repo from GitHub to your home directory. Note that the `$` prompt is included below to show you that this is a command line. You do not need to re-type the dollar sign.\n",
    "\n"
   ]
  },
  {
   "cell_type": "markdown",
   "metadata": {},
   "source": [
    "\n",
    "2. At the command prompt type (or copy-paste):\n",
    "\n",
    "    `$ git clone https://github.com/NOAA-ORR-ERD/GnomeTools.git`\n",
    "\n",
    "    If your computer is connected to the internet, the folder `GnomeTools` should appear in the file browser in the left side bar (assuming that your file browser is also showing your home directory, which, confusingly, is shown as a single forward slash `/` here...) \n",
    "\n",
    "    <img src='./home_dir.png'></img>"
   ]
  },
  {
   "cell_type": "markdown",
   "metadata": {},
   "source": [
    "2. Install GnomeTools. We need to tell Python that we found some new modules that we want to use. \n",
    "\n",
    "    * Back in the terminal, change the working directory to one of the folders that we just downloaded. At the prompt, type: \n",
    "\n",
    "    `$ cd GnomeTools/post_gnome/`\n",
    "\n",
    "    Notice how the prompt changed to show you the folder that you're now in. \n",
    "    \n",
    "    * We can look at the contents of this folder by typing `ls`, which results in a list of all of the files and folders in this folder:\n",
    "    ```\n",
    "    jovyan@jupyter-nidzieko:~/GnomeTools/post_gnome$ ls\n",
    "    LICENSE.txt  post_gnome.egg-info  requirements.txt  setup.py\n",
    "    post_gnome   README.rst           scripts           Untitled.ipynb\n",
    "    ```\n",
    "    \n",
    "    * We'll run the `setup.py` file as follows. At the prompt, type: \n",
    "    \n",
    "    `$ python setup.py develop`\n",
    "    \n",
    "    Here, we're calling Python, telling it to run the script called `setup.py` and passing the word `develop` as a flag, which specifies the type of installation. "
   ]
  },
  {
   "cell_type": "markdown",
   "metadata": {},
   "source": [
    "3. Install additional packages that are needed to run the post_gnome stuff. \n",
    "\n",
    "    These are known as _dependencies_. Packages or modules that have reached a certain level of maturity can be found on repositories managed by the Python community (as opposed to the do-it-yourself stuff that is sometimes found on GitHub). These slightly more mature packages can be installed using a _package manager_, as opposed to the manula way that we did above. We'll use the package manager called `conda` to accomplish this, also through the command line\n",
    "    \n",
    "    First, make sure conda is up-to-date. Just type `y` when prompted whether you want to proceed. The update command will take a few minutes to complete.\n",
    "\n",
    "    `$ conda update -n base conda`\n",
    "    \n",
    "    Then install `cartopy`\n",
    "    \n",
    "    `conda install -c conda-forge cartopy`\n",
    "    \n",
    "    And, finally, install `netCDF4`\n",
    "    \n",
    "    `conda install -c conda-forge netCDF4`\n",
    "    "
   ]
  },
  {
   "cell_type": "markdown",
   "metadata": {},
   "source": [
    "4. Test that the installation worked"
   ]
  },
  {
   "cell_type": "code",
   "execution_count": 2,
   "metadata": {},
   "outputs": [
    {
     "ename": "ModuleNotFoundError",
     "evalue": "No module named 'post_gnome'",
     "output_type": "error",
     "traceback": [
      "\u001b[0;31m---------------------------------------------------------------------------\u001b[0m",
      "\u001b[0;31mModuleNotFoundError\u001b[0m                       Traceback (most recent call last)",
      "\u001b[0;32m<ipython-input-2-7956eac515d5>\u001b[0m in \u001b[0;36m<module>\u001b[0;34m\u001b[0m\n\u001b[0;32m----> 1\u001b[0;31m \u001b[0;32mfrom\u001b[0m \u001b[0mpost_gnome\u001b[0m\u001b[0;34m.\u001b[0m\u001b[0mplotting\u001b[0m \u001b[0;32mimport\u001b[0m \u001b[0mgeo_plots\u001b[0m\u001b[0;34m\u001b[0m\u001b[0;34m\u001b[0m\u001b[0m\n\u001b[0m\u001b[1;32m      2\u001b[0m \u001b[0;31m#reload(geo_plots)\u001b[0m\u001b[0;34m\u001b[0m\u001b[0;34m\u001b[0m\u001b[0;34m\u001b[0m\u001b[0m\n\u001b[1;32m      3\u001b[0m \u001b[0;32mimport\u001b[0m \u001b[0mmatplotlib\u001b[0m\u001b[0;34m.\u001b[0m\u001b[0mpyplot\u001b[0m \u001b[0;32mas\u001b[0m \u001b[0mplt\u001b[0m\u001b[0;34m\u001b[0m\u001b[0;34m\u001b[0m\u001b[0m\n\u001b[1;32m      4\u001b[0m \u001b[0;34m\u001b[0m\u001b[0m\n\u001b[1;32m      5\u001b[0m \u001b[0mplt\u001b[0m\u001b[0;34m.\u001b[0m\u001b[0mclf\u001b[0m\u001b[0;34m(\u001b[0m\u001b[0;34m)\u001b[0m\u001b[0;34m\u001b[0m\u001b[0;34m\u001b[0m\u001b[0m\n",
      "\u001b[0;31mModuleNotFoundError\u001b[0m: No module named 'post_gnome'"
     ]
    }
   ],
   "source": [
    "from post_gnome.plotting import geo_plots\n",
    "#reload(geo_plots)\n",
    "import matplotlib.pyplot as plt\n",
    "\n",
    "plt.clf()\n",
    "\n",
    "ax = geo_plots.add_map(bbox=(-125.2,-124.2,47.7,48.3), bna='coast_wa.bna') \n",
    "#if bbox not specified, this will use map bounds from bna\n",
    "\n",
    "geo_plots.plot_all_trajectories(ax,'WA_particles.nc',addmarker=True)\n",
    "geo_plots.plot_single_trajectory(ax,'WA_particles.nc',1,color='r')\n",
    "\n",
    "plt.show()"
   ]
  },
  {
   "cell_type": "code",
   "execution_count": null,
   "metadata": {},
   "outputs": [],
   "source": []
  },
  {
   "cell_type": "code",
   "execution_count": null,
   "metadata": {},
   "outputs": [],
   "source": []
  },
  {
   "cell_type": "code",
   "execution_count": null,
   "metadata": {},
   "outputs": [],
   "source": []
  }
 ],
 "metadata": {
  "kernelspec": {
   "display_name": "Python 3",
   "language": "python",
   "name": "python3"
  },
  "language_info": {
   "codemirror_mode": {
    "name": "ipython",
    "version": 3
   },
   "file_extension": ".py",
   "mimetype": "text/x-python",
   "name": "python",
   "nbconvert_exporter": "python",
   "pygments_lexer": "ipython3",
   "version": "3.7.6"
  }
 },
 "nbformat": 4,
 "nbformat_minor": 4
}
