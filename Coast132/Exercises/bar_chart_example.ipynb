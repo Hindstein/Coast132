{
 "cells": [
  {
   "cell_type": "markdown",
   "metadata": {},
   "source": [
    "# Bar chart example\n",
    "\n",
    "The following code is an example of creating a bar chart. You are free to copy, paste, and modify this code as necessary to complete the assignments. "
   ]
  },
  {
   "cell_type": "code",
   "execution_count": 3,
   "metadata": {},
   "outputs": [],
   "source": [
    "# These commands import libraries so that we have some plotting functions\n",
    "# It's typical to place these import commands at the top of your file\n",
    "import matplotlib.pyplot as plt"
   ]
  },
  {
   "cell_type": "code",
   "execution_count": 4,
   "metadata": {},
   "outputs": [],
   "source": [
    "# Location names, contained in 'single quotes' and separated by a comma.\n",
    "location = ['Leadbetter', 'East Beach']   \n",
    "\n",
    "# The text contained in the variable 'sample_date' will be used to label the bars in the legend\n",
    "sample_date = '10/2/2018'\n",
    "\n",
    "# The water sampling data, separated by a comma. \n",
    "# Each position in the array should correspond to the locations \n",
    "# e.g. in this example, 260 is the total coliform value for Leadbetter\n",
    "#                    and 52 is the total coliform value for East Beach\n",
    "total_coliform = [260, 52]\n",
    "enterococcus = [52, 20]\n",
    "\n",
    "# EPA limits \n",
    "ent_limit = 104\n",
    "tc_limit = 1e4      # = 10,000"
   ]
  },
  {
   "cell_type": "code",
   "execution_count": 5,
   "metadata": {},
   "outputs": [
    {
     "data": {
      "image/png": "[encoded data removed]",
      "text/plain": [
       "<Figure size 576x288 with 2 Axes>"
      ]
     },
     "metadata": {
      "needs_background": "light"
     },
     "output_type": "display_data"
    }
   ],
   "source": [
    "# All python plots follow this same general procedure. \n",
    "# First, you call a function to create a figure; \n",
    "# Second, you call a function to put axes (or subplots) in that figure.\n",
    "# Thrid, you plot data into those axes\n",
    "# And fourth, you add some code to make the plot pretty abnd readable as necessary/suits you.\n",
    "# Note that you can skip steps 1 and 2 if you don't want to specify the figure size (as in step 1) or \n",
    "# create multiple subplots within the figure (as in step 2)\n",
    "\n",
    "# Step 1. Create a figure\n",
    "fig = plt.figure(figsize=(8, 4))  # figure size is given as a (width, height) tuple\n",
    "\n",
    "# Step 2. Add subplots. \n",
    "# This example divides the page into two subplots, arranged in one row and two columns,\n",
    "ax1 = fig.add_subplot(1,2,1)   \n",
    "ax2 = fig.add_subplot(1,2,2)  \n",
    "\n",
    "# (If you wanted four plots, say, in a row, the first plot would be: add_subplot(1,4,1))\n",
    "# (If you wanted these to be arranged with two on top and two on the bottom: add_subplot(2,2,1))\n",
    "\n",
    "\n",
    "# Step 3, first plot. Plot data into the first set of axes, stored as ax1 above\n",
    "## ENT data\n",
    "ax1.bar(location, enterococcus,    # <-- Bar plot using LOCATION for categories and ENTEROCOCCUS for values\n",
    "         label = sample_date)      # <-- NOTICE that the date we entered above is \n",
    "                                   #     used here to label these data in the legend                  \n",
    "\n",
    "ax1.axhline(y = ent_limit, label = 'EPA limit',\n",
    "            linewidth = 1, color = 'r')                  # Horizontal threshold line\n",
    "\n",
    "# Step 4. Clean up the plot (labels, change sizes as necesary, etc.)\n",
    "ax1.set_title('Enterococcus')                            # Set title\n",
    "ax1.set_ylabel('MPN')                                    # Set y-axis label\n",
    "ax1.legend()                                         # Create legend, using labels from the plot commands\n",
    "\n",
    "# Now we repeat steps 3 and 4 for the TC data\n",
    "\n",
    "# Step 3, second plot. Plot data into second axes, stored as ax2 above\n",
    "### TC (total coliform) data\n",
    "# For this plot, because the EPA limit is so high but \n",
    "# the observed values are so low, we will change the plot axes from linear to logarithmic \n",
    "ax2.bar(location, total_coliform, # <-- Bar plot using LOCATION for categories and TOTAL_COLIFORM for values\n",
    "         label = sample_date)                   # labeled with the string (text data) stored in sample_date\n",
    "\n",
    "ax2.axhline(y = tc_limit, label = 'EPA limit',\n",
    "            linewidth=1, color='r')                # Horizontal threshold line\n",
    "\n",
    "ax2.set_yscale(\"log\")    # <-- NOTICE we specify the log scale here\n",
    "ax2.set_title('Total Coliform')                    # Set title\n",
    "ax2.set_ylabel('MPN')                              # Set y-axis label\n",
    "\n",
    "\n",
    "# This should go last, so that the figure can be tidied up.\n",
    "fig.tight_layout()\n"
   ]
  },
  {
   "cell_type": "code",
   "execution_count": null,
   "metadata": {},
   "outputs": [],
   "source": []
  }
 ],
 "metadata": {
  "kernelspec": {
   "display_name": "Python 3",
   "language": "python",
   "name": "python3"
  },
  "language_info": {
   "codemirror_mode": {
    "name": "ipython",
    "version": 3
   },
   "file_extension": ".py",
   "mimetype": "text/x-python",
   "name": "python",
   "nbconvert_exporter": "python",
   "pygments_lexer": "ipython3",
   "version": "3.7.6"
  }
 },
 "nbformat": 4,
 "nbformat_minor": 4
}
