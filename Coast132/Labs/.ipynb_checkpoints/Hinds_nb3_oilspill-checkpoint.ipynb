{
 "cells": [
  {
   "cell_type": "markdown",
   "metadata": {},
   "source": [
    "# Geography 132 -- Assignment #3\n",
    "**Due Mar. 1, 2021, 12 pm (Noon)**\n",
    ">### Instructions \n",
    ">\n",
    ">  _While you're thinking about it, change the filename to match your name..._\n",
    ">\n",
    "> For this assignment you will run a particle tracking model to consider the risk of oil contaminating the shoreline under several environmental scenarios. The goals for this assignment are to:\n",
    "> - experiment with running a numerical model and dealing with the output\n",
    "> - interpret the observations in the context of range of physical drivers and how those conditions impact the behavior of a pollutant\n",
    "> \n",
    "> #### The Situation \n",
    "> \n",
    "> You work for the [Marine Spill Response Corporation](https://www.msrc.org) as an environmental modeler. Your job is to run a suite of models (including oil degradation, weather forecasting, and ocean circulation) to provide the company's emergency response teams with real-time predictions of how an oil spill might evolve, so that assets can be effectively deployed to reduce the risk of coastaline contamination. The [Ocean Defender](https://www.marinetraffic.com/en/ais/details/ships/shipid:449976/mmsi:367546320/imo:0/vessel:OCEAN_DEFENDER), MSRC's fast-response vessel based out of Santa Barbara, has recently been re-crewed. The captain has asked you to provide the new crew with a report that describes the regional oceanography and the factors that affect the fate of oil in the marine environment. She'd like the report to talk about how atmospheric and oceanographic conditions generally change throughout the year in the context of the local oil seeps, because she knows the crew will have questions about the presence of oil at the surface during their training exercises. The captain also wants you to provide an example of your output for an actual oil spill, to illustrate the different impacts of a spill versus a seep.\n",
    ">\n",
    "> Further details of your report are included below.\n",
    "\n"
   ]
  },
  {
   "cell_type": "markdown",
   "metadata": {},
   "source": [
    "# Hydrocarbons in the marine environment \n",
    "\n",
    "> Synthesizing the readings (Ch. 4 in Weis) and lecture, provide a short introduction to hydrocarbons in the marine environment. In particular, describe the main characteristics that affect the fate of hydrocarbons (viscosity, volatility, and weight). "
   ]
  },
  {
   "cell_type": "markdown",
   "metadata": {},
   "source": [
    "*Put your description here.*\n"
   ]
  },
  {
   "cell_type": "markdown",
   "metadata": {},
   "source": [
    "# Circulation in the Santa Barbara Channel\n",
    "\n",
    "> There are three synpotic patterns of circulation in the Santa Barbara Channel: upwelling, convergent, and relaxation. The basic ideas of this were laid out in [Harms & Winant, 1998](https://agupubs.onlinelibrary.wiley.com/doi/abs/10.1029/97JC02393) (see Fig. 10) and then considered in further detail by [Winant et al 2013](https://agupubs.onlinelibrary.wiley.com/doi/full/10.1029/2001JC001302) (see Fig. 5, top row). (The cyclonic eddy in the 1998 paper is termed convergent in the 2003 paper). \n",
    "> \n",
    "> Summarize these three states in a short narrative, including the typical season that these flow states tend to most frequently occur."
   ]
  },
  {
   "cell_type": "markdown",
   "metadata": {},
   "source": [
    "*Describe the three circulation patterns here.*"
   ]
  },
  {
   "cell_type": "markdown",
   "metadata": {},
   "source": [
    "> To run the model, you will need to enter sea surface temperatures (SST) and wind speed/direction. Having taken Geography 132, you know that you can find climatic summaries for [NDBC buoy 46053](https://www.ndbc.noaa.gov/station_history.php?station=46053). You might find the synthesis paper from Fewing et al 2016 to be useful, as well.\n",
    "\n",
    "> Fill in the folowing table summarizing the parameters used for your three circulation state models. You should reference/include the source of your observations. E.g. if you use information from the Fewings paper, you should cite that and include the reference in a *References* section. If you use data from the NDBC site, you should mention that and include the climatological graph. "
   ]
  },
  {
   "cell_type": "markdown",
   "metadata": {},
   "source": [
    "State       | Time period | SST (ºC) | Wind speed (kts) | Wind direction (ºN)\n",
    "----------  | ----------- | -------- | ---------------- | --------------- \n",
    "Upwelling   |             |          |                  |                               \n",
    "Relaxation  |             |          |                  |                \n",
    "Convergent  |             |          |                  |                \n",
    "\n"
   ]
  },
  {
   "cell_type": "markdown",
   "metadata": {},
   "source": [
    "# Fate of oil seeps\n",
    "\n",
    "> Using [WebGNOME](https://gnome.orr.noaa.gov), NOAA's oil modeling application, illustrate how the fate of oil from the Coal Oil Point seep field differs under the three current scenarios above. For these three simulations, you should use a **constant** wind speed and direction (using the values in your table). The scenarios should be run for **five days**, using a seep rate of **160 barrels/day**. \n",
    "> \n",
    "> Include below maps showing the distribution of the plume after the five-day period. "
   ]
  },
  {
   "cell_type": "markdown",
   "metadata": {},
   "source": [
    "*Insert the model results here.* "
   ]
  },
  {
   "cell_type": "markdown",
   "metadata": {},
   "source": [
    "> Discuss how the results are different, focusing particularly why/how the different variables in the table above  affect the fate of oil along the coast."
   ]
  },
  {
   "cell_type": "markdown",
   "metadata": {},
   "source": [
    "*Place your discussion here.*"
   ]
  },
  {
   "cell_type": "markdown",
   "metadata": {},
   "source": [
    "# Forecasting oil spills\n",
    "> In contrast to the slow seeps above, create a realistic simulation for a spill of **800 barrels** coming from [Platform Holly](https://www.google.com/maps/place/Platform+Holly/@34.3898108,-119.9327176,13z/data=!4m5!3m4!1s0x0:0x9b529000e3714f56!8m2!3d34.3898108!4d-119.9064534). Run the simulation for **five days**, using the **NWS forecast** for the area. \n",
    "> \n",
    "> Place an image of the spill after five days below. "
   ]
  },
  {
   "cell_type": "markdown",
   "metadata": {},
   "source": [
    "*Place your model results here.*"
   ]
  },
  {
   "cell_type": "markdown",
   "metadata": {},
   "source": [
    "> Contrast your modeled spill results to the most applicable seep scenario. You should include and discuss the oil fate graphs for the spill and seep scenario. You should use the [25-hour mean sea surface currents](http://cordc.ucsd.edu/projects/mapping/maps/fullpage.php?ll=34.341863,-120.1786&zm=9&mt=terrain&rng=0.00,50.00&us=1&cs=4&res=6km_a&ol=&cp=1) to when considering which circulation state is most applicable. Modify the example HF Radar code provided on GauchoSpace (you can include that code here) or copy and paste a screen shot of the SCCOOS page here. "
   ]
  },
  {
   "cell_type": "markdown",
   "metadata": {},
   "source": [
    "*Place your seep model fate results here.*"
   ]
  },
  {
   "cell_type": "markdown",
   "metadata": {},
   "source": [
    "*Place your spill model fate results here.*"
   ]
  },
  {
   "cell_type": "markdown",
   "metadata": {},
   "source": [
    "*Discuss why the two scenarios/results above are different.*"
   ]
  }
 ],
 "metadata": {
  "kernelspec": {
   "display_name": "Python 3",
   "language": "python",
   "name": "python3"
  },
  "language_info": {
   "codemirror_mode": {
    "name": "ipython",
    "version": 3
   },
   "file_extension": ".py",
   "mimetype": "text/x-python",
   "name": "python",
   "nbconvert_exporter": "python",
   "pygments_lexer": "ipython3",
   "version": "3.7.4"
  }
 },
 "nbformat": 4,
 "nbformat_minor": 2
}
