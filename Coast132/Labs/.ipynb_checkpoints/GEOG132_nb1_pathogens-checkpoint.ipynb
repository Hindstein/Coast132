{
 "cells": [
  {
   "cell_type": "markdown",
   "metadata": {},
   "source": [
    "># Instructions \n",
    ">\n",
    "> **When you submit this assignment, replace \"GEOG132\" with your LAST NAME**, then download as a PDF via Latex. Submit the PDF file prior to 12:30 pm on Jan 25. \n",
    ">\n",
    "> For this assignment you will create a \"Beach Report\", describing observed water quality around UCSB in the context of wave conditions and historical data. The goals of this assignment are to:\n",
    "> - practice reading and manipulating Python code\n",
    "> - think about pollution in the context of physical processes\n",
    "> - practice drawing conclusions from data and communicating those ideas\n",
    "> \n",
    "> #### The Situation \n",
    "> You work for UCSB Environmental Health & Safety. EH&S has been informed that a huge beach party is about to take place and campus administration needs to know if poor beach water quality conditions might result in a spike in illnesses (and trips to campus health services). Your job is to advise campus administration about the potential risk for pathogen pollution in the waters near Campus Point. Your report will include a synthesis of historical data and observations that ~~you collect yourself~~ have been provided to you in a socially-distanced way... \n",
    "> \n",
    "> _Available historical data_\n",
    "> \n",
    "> Santa Barbara County Environmental Health Services is responsible for conducting routine monitoring of recreational waters along our coast (per AB411). But [their site](https://countyofsb.org/phd/ehs/ocean-water.sbc) is somewhat outdated and doesn't contain easy, intuitive access to sample data. \n",
    ">\n",
    "> On the other hand, Heal the Bay has a [really cool site](https://beachreportcard.org/34.408339999999995/-119.7612095/12) that aggregates recent sampling from local agencies, including Santa Barbara. HTB also produces a water quality prediction for some sites ([such as Arroyo Burro](https://beachreportcard.org/34.408339999999995/-119.7612095/12/74)) based on historical data. However, the site doesn't give you enough details about exactly where the samples are taken and, as a geographer, this doesn't sit well with you... You know that environmental context can be important to considering data interpretation! \n",
    "> \n",
    "> Consequently, you decide to ~~take some water quality samples on your own~~ send your professor out to collect some samples for you. You must provide a short report to campus that includes:\n",
    "> - a introduction to pathogen pollution and beach water quality sampling\n",
    "> - your observational methods (i.e. what you ~~did~~ had your professor do...)\n",
    "> - the data in graphical form\n",
    "> - an analysis of the water quality results in the context of nearshore circulation and historical conditions\n",
    "> \n",
    "> These elements are outlined in greater detail in the cells below.\n",
    "> \n",
    ">### What has been provided for you...\n",
    "> #### Results of water samples to test for fecal indicator bacteria (FIB) \n",
    ">  At each of three sites, we collected water grab samples in 500 mL bottles. This process is simply taking the bottle, flushing it a few times with water from the site, then filling it full by immersing the bottle in the water. The bottle is capped tightly and kept chilled until analysis. In the lab, we used a commericially available kit: Idexx Colilert/Entrolert. \n",
    "> - The results of this lab work are provided on GauchoSpace. \n",
    "> - The locations of the samples can be viewed in this [Google Earth project](https://earth.google.com/earth/rpc/cc/drive?state=%7B%22ids%22%3A%5B%2210F7kid0IAxdVTQZ-tc1ABJ6YVS--GwN4%22%5D%2C%22action%22%3A%22open%22%2C%22userId%22%3A%22105937853437088430312%22%2C%22resourceKeys%22%3A%7B%7D%7D&usp=sharing). You can assume that the water samples were taken around 11 AM.\n",
    "> \n",
    "> #### Observations of wave conditions\n",
    "> Using the videos provided on GauchoSpace, compare the wave conditions between West Depressions (looking west from the point) and Goleta Bay (looking east from the point). In particular, estimate $\\theta$, the angle of breaking waves relative to shoreline direction. It is difficult to estimate the wave heights from the videos, so you can look up the wave height and period for the time when the observations/videos were made (1/13/2021 at 11:00 AM local time) using data from a [wave buoy offshore of Campus Point](https://coastlab.sofarocean.com/historical/SPOT-0798).  \n",
    ">\n",
    "> ---\n",
    "> _Everything that follows in the cells below will comprise your report. Add your work below the instruction cells, **replacing text in italics**._\n"
   ]
  },
  {
   "cell_type": "markdown",
   "metadata": {},
   "source": [
    "# Background \n",
    "\n",
    ">(20%) **Write a short introduction** (a few paragraphs) to pathogen pollution in recerational swimming waters (i.e. the beach). Include a description of how beach waters are sampled (in general), the underlying principles of the approach, and some limitations of this approach (e.g. are you directly measuring viruses?). What are possible sources of contamination at the beach? This summary should synthesize the assigned reading and discussions in lecture, as applicable to the problem statement above. You should frame the work for a general audience."
   ]
  },
  {
   "cell_type": "markdown",
   "metadata": {},
   "source": [
    "*Put your summary in this cell*\n"
   ]
  },
  {
   "cell_type": "markdown",
   "metadata": {},
   "source": [
    "# Observational methods \n",
    "\n",
    ">(20%) **Describe the observations** that you made, including the water sampling process. Be as detailed as necessary for a knowledgeable reader to understand what you did and generally replicate your methods. You may assume that a \"knowledgable reader\" is someone who will understand general environmental sampling methods and be familiar with some level of scientific jargon. While you won't have an opportunity to actually do the lab work, you can see short videos of [sampling](http://publicfiles.surfrider.org/SamplingVideo_BWTF.mov) and then [preparing the Quanti-Tray](http://www.youtube.com/watch?v=h7uyi_NrR1Y) provided by Surfrider Foundation. The IDEXX website provides a nice [overview of the workflow](https://www.idexx.com/en/water/water-products-services/enterolert/) (scroll down to the \"Quantification\" section).  "
   ]
  },
  {
   "cell_type": "markdown",
   "metadata": {},
   "source": [
    "*Describe the methods in this cell*"
   ]
  },
  {
   "cell_type": "markdown",
   "metadata": {},
   "source": [
    "# Results\n",
    "> (30%) **Enter data** and **plot results** in the cells below.\n"
   ]
  },
  {
   "cell_type": "markdown",
   "metadata": {},
   "source": [
    "### Water quality observations\n",
    ">**Fill in this table** with the water quality results. \n"
   ]
  },
  {
   "cell_type": "markdown",
   "metadata": {},
   "source": [
    "| Site | Date & Time | Lat. (ºN) | Long. (ºE) | Total Coliform (MPN) | Fecal Coliform (MPN) | Enterococci (MPN) |\n",
    "| --- |  --- | --- | --- | --- | --- | --- |\n",
    "|     |      |     |     |     |     |     |\n",
    "|     |      |     |     |     |     |     |\n",
    "|     |      |     |     |     |     |     |\n",
    "\n"
   ]
  },
  {
   "cell_type": "markdown",
   "metadata": {},
   "source": [
    ">**Plot the water quality results** by creating a bar chart for each FIB. You should have three bar plots corresponding to total coliform (TC), fecal coliform (FC), and enterococcus (ENT). With three sites (Lagoon, West Depression, and Goleta Bay), each bar plot should have three bars, plus a line showing the EPA water quality standard threshold. *You can find an example of the bar plot in GauchoSpace.*"
   ]
  },
  {
   "cell_type": "code",
   "execution_count": 4,
   "metadata": {},
   "outputs": [],
   "source": [
    "## Place your code here, so that the plots appear below, You may use multiple cells as suits your sense of organization..."
   ]
  },
  {
   "cell_type": "markdown",
   "metadata": {},
   "source": [
    "### Wave observations\n",
    "> While at the beach:\n",
    "> - **Estimate $\\theta$, the  direction that waves approach the beach**, just prior to breaking. Just eyeball it based on the videos.\n",
    ">\n",
    "> - **Estimate the breaking wave height** at each site by looking up the values observed at the Spotter wave buoy (link below). Normally we expect the waves on the east side of Campus Point to be smaller than the waves on the west side. In this case, the video looking east captured a nice set that came through (meaning the waves were bigger for a little bit) whereas the video looking west didn't record a set. So we'll just use the wave height from the buoy for both locations.\n",
    "> \n",
    "> - **Determine the peak period** at each site. Again, we'll use the Campus Point wave buoy. The peak period is derived using spectral analysis of a short time series of water level. You can read more about peak period and mean period [here](http://www.coastalwiki.org/wiki/Statistical_description_of_wave_parameters).\n",
    ">\n",
    ">The waves you observe will be a combination of wave periods; you will need to **plot a histogram of your observations** to find the peak wave period. \n",
    ">\n",
    "> In the *Analysis* section you will need to compare you observations to offshore wave conditions by looking up data from the NDBC mid-Channel Buoy (https://www.ndbc.noaa.gov/station_page.php?station=46053) and UCSB's Spotter wave buoy (use 0798 for this exercise) (https://coastlab.sofarocean.com/historical/SPOT-0798). "
   ]
  },
  {
   "cell_type": "markdown",
   "metadata": {},
   "source": [
    "*Place your estimates of shoreline direction and wave height, as well as the buoy observations, here. Enter the wave direction for the buoys and shoreline angle for the sampling sites*\n",
    "\n",
    "| Site | Date & Time  | Lat. (ºN) | Long. (ºE) | $H_s$ (m)| $T_p$ (s) | $\\theta$ or wave direction|\n",
    "| ---- | --------- | --------- | -------- | -------- |  ------- | ---    |\n",
    "|     |           |           |          |          |          |        |           \n",
    "|     |           |           |          |          |          |        |     \n",
    "|     |           |           |          |          |           |        |    \n",
    "| 0798 |           |           |          |       |                  |    |\n",
    "| 46053|           |           |          |       |                  |    |\n",
    "\n"
   ]
  },
  {
   "cell_type": "markdown",
   "metadata": {},
   "source": [
    "# Analysis\n",
    "\n",
    ">(30%) **Briefly describe the results.** In other words, describe what the graphs above show. For the Santa Barbara data provided as an example, I might say: \"Both enterococcus and total coliform were higher at Leadbetter Beach than East Beach. However, both sites were below the EPA regulated threshold for these indicator bacteria. The dominant wave energy was observed to have a peak period of 12 to 13 seconds. Wave conditions at Leadbetter and East Beach were similar, with wave heights of 0.3 m and mean periods of 8-9 seconds.\" \n",
    ">\n",
    "> Next, **provide a reasonable explanation** for any patterns that you observe, combining the water quality and wave parameters. In particular, think about the role that wave-driven currents may play in moving water around in the context of potential sources of pathogen pollution. Continuing from the previous example: \"Leadbetter may have higher indicator levels because there is limited wave activity on the east side of the headland, given the predominant wave direction from the west, and so along-shore currents are minimal.\" Additionally, describe the difference between the peak and mean wave direction. \n",
    ">\n",
    ">Finally, **compare/contrast your results** to the [observations made last winter](https://www.surfrider.org/blue-water-task-force/chapter/30) by the County and Surfrider Foundation (consider last winter to be from October 2019 to April 2020). What factors might contribute to the highly variable water quality between the Goleta Pier and Depressions sampling locations? Make a small table summarizing the range of observations at both locations. "
   ]
  },
  {
   "cell_type": "markdown",
   "metadata": {},
   "source": [
    "*Place your analysis here* \n"
   ]
  }
 ],
 "metadata": {
  "kernelspec": {
   "display_name": "Python 3",
   "language": "python",
   "name": "python3"
  },
  "language_info": {
   "codemirror_mode": {
    "name": "ipython",
    "version": 3
   },
   "file_extension": ".py",
   "mimetype": "text/x-python",
   "name": "python",
   "nbconvert_exporter": "python",
   "pygments_lexer": "ipython3",
   "version": "3.7.4"
  }
 },
 "nbformat": 4,
 "nbformat_minor": 4
}
