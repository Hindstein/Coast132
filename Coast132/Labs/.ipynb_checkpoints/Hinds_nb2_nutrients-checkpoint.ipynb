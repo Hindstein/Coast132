{
 "cells": [
  {
   "cell_type": "markdown",
   "metadata": {},
   "source": [
    "# Geography 132 -- Assignment #2\n",
    "**Due Feb. 8, 2021, 12:30 pm**\n",
    ">### Instructions \n",
    ">\n",
    ">  **When you submit this assignment, replace \"GEOG132\" with your LAST NAME**, then download from Jupyter as an *HTML file*, and upload to GauchoSpace.\n",
    ">\n",
    "> For this assignment you will analyze spatial and temporal patterns in water quality in Campus Lagoon. The goals for this assignment are to:\n",
    "> - learn to make plots showing spatial data in Python\n",
    "> - interpret the observations in the context of possible physical drivers\n",
    "> - think about coastal ecosystems using a control volume approach\n",
    "> - link space and time through flow rates\n",
    "> \n",
    "> #### The Situation \n",
    "> \n",
    "> You work for an environmental consulting company that has been hired to conduct a study of water quality conditions in UCSB's Campus Lagoon. Your company has been asked to, specifically, assess eutrophiciation and hypoxia concerns. You are in the early stages of Phase I of the project, which involves initial site characterization and baseline (dry weather) monitoring. Your boss asks you to produce a report that:\n",
    "> - describes why and how nutrients and oxygen demand are linked in coastal waters\n",
    "> - gives an overview of the lagoon\n",
    "> - presents the results of your initial sampling effort\n",
    "> - proposes a comprehensive monitoring plan for both dry and wet conditions\n",
    ">\n",
    ">### You are busy, and were able to hire someone to go collect data for you... These data include:\n",
    "> ####  Water quality conditions in Campus Lagoon\n",
    ">  The following were collected with a YSI 2030 Pro\n",
    "> - temperature\n",
    "> - conductivity\n",
    "> - dissolved oxygen\n",
    ">\n",
    "> The above data were collected in a longitudinal transect (along the length of the lagoon) and sampled at both the surface and near the bed (when possible). \n",
    "> \n",
    "> Additionally, a PME MiniDOT was deployed for two weeks prior to the longitudinal samling. The resulting timeseries of temperature and dissolved oxygen in the lagoon is availabe to provide context to the point samples collected using the YSI."
   ]
  },
  {
   "cell_type": "markdown",
   "metadata": {},
   "source": [
    "# Background \n",
    "> **Write a two-part introduction**. The **first part** should describe how nutrient enrichment leads to eutrophiciation and hypoxia in coastal ecosystems. Your goal is to provide context for the reader to understand the data presented later in the report. This synthesis should come from the reading assignment (one chapter in each of the assigned textbooks).  The **second part** should introduce the reader to Campus Lagoon. The purpose here is to provide necessary context for a reader unfamiliar with the site. (Is it tidal? Where does the water come from? What are the physical dimensions? What's the local climate? Does wind matter?) "
   ]
  },
  {
   "cell_type": "markdown",
   "metadata": {},
   "source": [
    "#### Eutrophication\n",
    "*Put your reading summary in this cell.*\n"
   ]
  },
  {
   "cell_type": "markdown",
   "metadata": {},
   "source": [
    "#### Campus Lagoon\n",
    "\n",
    "*Put your site overview in this cell.*\n"
   ]
  },
  {
   "cell_type": "markdown",
   "metadata": {},
   "source": [
    "#  Methods\n",
    "> Describe the instrumentation and water sampling methods."
   ]
  },
  {
   "cell_type": "markdown",
   "metadata": {},
   "source": [
    "*Put your methods description in this cell*"
   ]
  },
  {
   "cell_type": "markdown",
   "metadata": {},
   "source": [
    "# Campus Lagoon dry season monitoring\n",
    "> Make plots showing the spatial distribution of temperature, salinity, and dissolved oxygen in the lagoon.  Do the following:\n",
    "> - For each parameter, plot the surface measurement from each station on a map. The value should be shown in color, using a scatterplot. There should be three subplot or subpanels, arranged in one row with three columns, such that there is a subplot for  each variable. An example of a single figure is provided on GauchoSpace. Call this Figure 1.\n",
    "> - For each parameter, plot the surface and bottom (where available) measurements as a function of distance along the axis of the lagoon, using different line types for the surface and bottom. There should be one figure with three panels, with each panel containing two lines/set of points. An example is provided on GauchoSpace. Call this Figure 2.\n",
    "> - Compare the timeseries of dissolved oxygen collected with the MiniDOT logger to weather conditions from the airport. Call this figure 3. Again, an example is provided on GauchoSpace.\n",
    "\n"
   ]
  },
  {
   "cell_type": "code",
   "execution_count": 3,
   "metadata": {
    "scrolled": true
   },
   "outputs": [],
   "source": [
    "# Insert/paste and modify the code here specifies the PYthon libraries you will need"
   ]
  },
  {
   "cell_type": "code",
   "execution_count": 4,
   "metadata": {
    "scrolled": true
   },
   "outputs": [],
   "source": [
    "# Place code here for reading in the necessary data. (\"Reading in\" means importing the contents\n",
    "# of a textfile into memory within Python.) Again, use the examples on GauchoSpace\n",
    "# You can use as many cells as you'd like"
   ]
  },
  {
   "cell_type": "code",
   "execution_count": null,
   "metadata": {
    "scrolled": true
   },
   "outputs": [],
   "source": []
  },
  {
   "cell_type": "code",
   "execution_count": 5,
   "metadata": {},
   "outputs": [],
   "source": [
    "# Put code here to get data from the Santa Barbara Airport"
   ]
  },
  {
   "cell_type": "code",
   "execution_count": 6,
   "metadata": {},
   "outputs": [],
   "source": [
    "# Put your code here to LOAD the MiniDOT data (found in minidot_data.csv), \n"
   ]
  },
  {
   "cell_type": "code",
   "execution_count": 7,
   "metadata": {},
   "outputs": [],
   "source": [
    "# FIGURE 1. \n",
    "# Create three color-coded scatter plots, overlaid on the shoreline points of Campus Point.\n",
    "# Be sure to include the storm drain locations."
   ]
  },
  {
   "cell_type": "code",
   "execution_count": 8,
   "metadata": {},
   "outputs": [],
   "source": [
    "# Figure 2.\n",
    "# Make a plot of water quality parameters along the axis of the estuary\n",
    "# You should have three subplots, stacked on top of one another. \n",
    "# -- Top subplot(3,1,1): Temperature at the surface and bottom\n",
    "# -- Middle subplot(3,1,2): Salinity at the surface and bottom\n",
    "# -- Bottom subplot(3,1,3): Dissolved oxygen at the surface and bottom\n",
    "# Only label the horizontal (distance) axis on th bottom plot, but be sure that all of the plots have the same bounds\n",
    "# Also, be sure that you use the same color coding for the surface and bottom locations thorughout all of the panels."
   ]
  },
  {
   "cell_type": "code",
   "execution_count": 9,
   "metadata": {},
   "outputs": [],
   "source": [
    "# Figure 3. \n",
    "# Make a timeseries plot that includes two subplots, arranged on on top of the other.\n",
    "# -- Top subplot: Plot Airport air temperature and lagoon water temperature\n",
    "# -- Bottom subplot: Plot airport wind speed and lagoon dissolved oxygen\n",
    "# Be sure that both subplots have the same bounds for the horizontal (time) axes. "
   ]
  },
  {
   "cell_type": "markdown",
   "metadata": {},
   "source": [
    "## Discussion of results\n",
    "> Describe the observations you made, speculating about the possible reasons for the observed patterns in temperature, salinity, and dissolved oxygen. How/why are the patterns between these three variables similar or different spatially across the lagoon? Do conditions in the lagoon appear to be affected by the weather conditions? What other information might be useful to help interpret the timeseries? \n"
   ]
  },
  {
   "cell_type": "markdown",
   "metadata": {},
   "source": [
    "*Put your discussion here*\n"
   ]
  },
  {
   "cell_type": "markdown",
   "metadata": {},
   "source": [
    "# Sampling recommendations\n",
    "> Our sampling efforts were clearly limited by resources (what we could measure) and access (where/how we could measure). Provide a recommendation for where, how, and when you should conduct a sampling campaign to properly characterize water quality in the lagoon during both dry and wet seasons. Would you change the spacing of the stations? "
   ]
  },
  {
   "cell_type": "markdown",
   "metadata": {},
   "source": [
    "*Put your recommended sampling strategy here*"
   ]
  }
 ],
 "metadata": {
  "kernelspec": {
   "display_name": "Python 3",
   "language": "python",
   "name": "python3"
  },
  "language_info": {
   "codemirror_mode": {
    "name": "ipython",
    "version": 3
   },
   "file_extension": ".py",
   "mimetype": "text/x-python",
   "name": "python",
   "nbconvert_exporter": "python",
   "pygments_lexer": "ipython3",
   "version": "3.7.4"
  }
 },
 "nbformat": 4,
 "nbformat_minor": 4
}
