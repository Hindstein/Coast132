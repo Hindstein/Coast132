{
 "cells": [
  {
   "cell_type": "markdown",
   "metadata": {},
   "source": [
    "># Instructions \n",
    ">\n",
    "> **When you submit this assignment, replace \"GEOG132\" with your LAST NAME**, then download as a PDF via Latex. Submit the PDF file prior to 12:30 pm on Jan 25. \n",
    ">\n",
    "> For this assignment you will create a \"Beach Report\", describing observed water quality around UCSB in the context of wave conditions and historical data. The goals of this assignment are to:\n",
    "> - practice reading and manipulating Python code\n",
    "> - think about pollution in the context of physical processes\n",
    "> - practice drawing conclusions from data and communicating those ideas\n",
    "> \n",
    "> #### The Situation \n",
    "> You work for UCSB Environmental Health & Safety. EH&S has been informed that a huge beach party is about to take place and campus administration needs to know if poor beach water quality conditions might result in a spike in illnesses (and trips to campus health services). Your job is to advise campus administration about the potential risk for pathogen pollution in the waters near Campus Point. Your report will include a synthesis of historical data and observations that ~~you collect yourself~~ have been provided to you in a socially-distanced way... \n",
    "> \n",
    "> _Available historical data_\n",
    "> \n",
    "> Santa Barbara County Environmental Health Services is responsible for conducting routine monitoring of recreational waters along our coast (per AB411). But [their site](https://countyofsb.org/phd/ehs/ocean-water.sbc) is somewhat outdated and doesn't contain easy, intuitive access to sample data. \n",
    ">\n",
    "> On the other hand, Heal the Bay has a [really cool site](https://beachreportcard.org/34.408339999999995/-119.7612095/12) that aggregates recent sampling from local agencies, including Santa Barbara. HTB also produces a water quality prediction for some sites ([such as Arroyo Burro](https://beachreportcard.org/34.408339999999995/-119.7612095/12/74)) based on historical data. However, the site doesn't give you enough details about exactly where the samples are taken and, as a geographer, this doesn't sit well with you... You know that environmental context can be important to considering data interpretation! \n",
    "> \n",
    "> Consequently, you decide to ~~take some water quality samples on your own~~ send your professor out to collect some samples for you. You must provide a short report to campus that includes:\n",
    "> - a introduction to pathogen pollution and beach water quality sampling\n",
    "> - your observational methods (i.e. what you ~~did~~ had your professor do...)\n",
    "> - the data in graphical form\n",
    "> - an analysis of the water quality results in the context of nearshore circulation and historical conditions\n",
    "> \n",
    "> These elements are outlined in greater detail in the cells below.\n",
    "> \n",
    ">### What has been provided for you...\n",
    "> #### Results of water samples to test for fecal indicator bacteria (FIB) \n",
    ">  At each of three sites, we collected water grab samples in 500 mL bottles. This process is simply taking the bottle, flushing it a few times with water from the site, then filling it full by immersing the bottle in the water. The bottle is capped tightly and kept chilled until analysis. In the lab, we used a commericially available kit: Idexx Colilert/Entrolert. \n",
    "> - The results of this lab work are provided on GauchoSpace. \n",
    "> - The locations of the samples can be viewed in this [Google Earth project](https://earth.google.com/earth/rpc/cc/drive?state=%7B%22ids%22%3A%5B%2210F7kid0IAxdVTQZ-tc1ABJ6YVS--GwN4%22%5D%2C%22action%22%3A%22open%22%2C%22userId%22%3A%22105937853437088430312%22%2C%22resourceKeys%22%3A%7B%7D%7D&usp=sharing). You can assume that the water samples were taken around 11 AM.\n",
    "> \n",
    "> #### Observations of wave conditions\n",
    "> Using the videos provided on GauchoSpace, compare the wave conditions between West Depressions (looking west from the point) and Goleta Bay (looking east from the point). In particular, estimate $\\theta$, the angle of breaking waves relative to shoreline direction. It is difficult to estimate the wave heights from the videos, so you can look up the wave height and period for the time when the observations/videos were made (1/13/2021 at 11:00 AM local time) using data from a [wave buoy offshore of Campus Point](https://coastlab.sofarocean.com/historical/SPOT-0798).  \n",
    ">\n",
    "> ---\n",
    "> _Everything that follows in the cells below will comprise your report. Add your work below the instruction cells, **replacing text in italics**._\n"
   ]
  },
  {
   "cell_type": "markdown",
   "metadata": {},
   "source": [
    "# Background \n",
    "\n",
    ">(20%) **Write a short introduction** (a few paragraphs) to pathogen pollution in recerational swimming waters (i.e. the beach). Include a description of how beach waters are sampled (in general), the underlying principles of the approach, and some limitations of this approach (e.g. are you directly measuring viruses?). What are possible sources of contamination at the beach? This summary should synthesize the assigned reading and discussions in lecture, as applicable to the problem statement above. You should frame the work for a general audience."
   ]
  },
  {
   "cell_type": "markdown",
   "metadata": {},
   "source": [
    "* **Pathogen Pollution:**\n",
    ">Recreational swimming waters, to include lakes, rivers, and beaches are prone to natural\n",
    "contamination from sources such as watershed runoff, soil compositions, and interactions with living species. Unnatural, or anthropegenic causes of coastal pollution from point nad non-point sources can include: industrial wastewater and urbanization, agriculture methods, and storm drainage respectively. Pollutants can range in influence and severity to local living species. For example, related problems as a result of pathogen pollution are: human ilnness, wildlife illness, economic downfalls, and limits to food supply.\n",
    "\n",
    "* **Water Sampling:**\n",
    ">Methods of quantifying potential bacterial pollution in recreational waters include are typically indirect observations of indicator bacteria, sentinel habitats, forecasts, and/or direct pathogen detection. Typical Fecal Indicator Bacteria (FIB) testing includes several test tubes of 1ml water samples to average potential pathogens and quanti tray flourescent reagent observations, and takes about 24 hours to complete. If the most probable number (MPN) of pathogen volume is below a defined threshold, then the water source remains non-dangerous. If the MPN is above a threshold, it is deemed dangerous for use or consumption and leads to closures of the source area. \n",
    "\n",
    "\n"
   ]
  },
  {
   "cell_type": "markdown",
   "metadata": {},
   "source": [
    "# Observational methods \n",
    "\n",
    ">(20%) **Describe the observations** that you made, including the water sampling process. Be as detailed as necessary for a knowledgeable reader to understand what you did and generally replicate your methods. You may assume that a \"knowledgable reader\" is someone who will understand general environmental sampling methods and be familiar with some level of scientific jargon. While you won't have an opportunity to actually do the lab work, you can see short videos of [sampling](http://publicfiles.surfrider.org/SamplingVideo_BWTF.mov) and then [preparing the Quanti-Tray](http://www.youtube.com/watch?v=h7uyi_NrR1Y) provided by Surfrider Foundation. The IDEXX website provides a nice [overview of the workflow](https://www.idexx.com/en/water/water-products-services/enterolert/) (scroll down to the \"Quantification\" section).  "
   ]
  },
  {
   "cell_type": "markdown",
   "metadata": {},
   "source": [
    "* For this sampling situation, 500mL individual samples were taken from Goleta Bay, Depressions Beach, and the UCSB Lagoon to analyze the pathogen contents of the local waters surrounding the UCSB campus. The bottles were flushed a few times with water from the site, then filled by immersion in the water. The bottles were capped tightly and kept chilled until analysis. In the lab, a commericially available kit was used: Idexx Colilert/Entrolert.\n",
    "* For each sample, 10mL was transferred from the sample bottle to a sample dilution bottle. In this dilution bottle, an additional 90mL of clean water was added to ensure the 1/10 sample ration to maintain testing accuracy on the quanti-tray. Additionaly, the testing reagent (ex. Enterolert) was added to the dilution bottle to \"feed\" the potential bacteria. The quanti-tray and related bottles were labeled for each sample.\n",
    "* The 100mL dilution bottle with added reagent, was emptied into each respective quanti-tray and air bubbles were removed. The quanti-tray was then sealed using a quanti-tray sealer, and incubated at 41degC for 24 hrs before the recording of test results.\n",
    "* To record the results after 24 hrs, the quanti-tray is highlightd by a flourescent light, and kept away from UV exposure. The illuminated squares are counted (positive) and referenced to a corresponding MPN table, which are organized by small positive wells vs. large positive wells."
   ]
  },
  {
   "cell_type": "markdown",
   "metadata": {},
   "source": [
    "# Results\n",
    "> (30%) **Enter data** and **plot results** in the cells below.\n"
   ]
  },
  {
   "cell_type": "markdown",
   "metadata": {},
   "source": [
    "### Water quality observations\n",
    ">**Fill in this table** with the water quality results. \n"
   ]
  },
  {
   "cell_type": "markdown",
   "metadata": {},
   "source": [
    "| Site | Date & Time | Lat. (ºN) | Long. (ºE) | Total Coliform (MPN) | Fecal Coliform (MPN) | Enterococci (MPN) |\n",
    "| --- |  --- | --- | --- | --- | --- | --- |\n",
    "|Lagoon|09/01/2021 1300PST|34.4071|-119.8505|1153|1187|0|\n",
    "|Depressions|09/01/2021 1300PST|34.4063|-119.8441|97|134|0|\n",
    "|Goleta Bay|09/01/2021 1300PST|34.4153|-119.8334|185|228|0|\n",
    "\n"
   ]
  },
  {
   "cell_type": "markdown",
   "metadata": {},
   "source": [
    ">**Plot the water quality results** by creating a bar chart for each FIB. You should have three bar plots corresponding to total coliform (TC), fecal coliform (FC), and enterococcus (ENT). With three sites (Lagoon, West Depression, and Goleta Bay), each bar plot should have three bars, plus a line showing the EPA water quality standard threshold. *You can find an example of the bar plot in GauchoSpace.*"
   ]
  },
  {
   "cell_type": "code",
   "execution_count": 24,
   "metadata": {},
   "outputs": [
    {
     "data": {
      "image/png": "[encoded data removed]",
      "text/plain": [
       "<Figure size 576x288 with 3 Axes>"
      ]
     },
     "metadata": {
      "needs_background": "light"
     },
     "output_type": "display_data"
    }
   ],
   "source": [
    "import matplotlib.pyplot as plt\n",
    "\n",
    "# Location names, contained in 'single quotes' and separated by a comma.\n",
    "location = ['Lagoon', 'Depressions', 'Goleta Bay']   \n",
    "\n",
    "# The text contained in the variable 'sample_date' will be used to label the bars in the legend\n",
    "sample_date = '09/01/2021'\n",
    "\n",
    "# The water sampling data, separated by a comma. \n",
    "total_coliform = [1153, 97, 185]\n",
    "fecal_coliform = [1187, 134, 228]\n",
    "enterococcus = [0, 0, 0]\n",
    "\n",
    "# EPA limits \n",
    "ent_limit = 104\n",
    "tc_limit = 1e4 # = 10,000\n",
    "fc_limit = 400 \n",
    "\n",
    "# Step 1. Create a figure\n",
    "fig = plt.figure(figsize=(8, 4))  # figure size is given as a (width, height) tuple\n",
    "\n",
    "# Step 2. Add subplots. \n",
    "# This example divides the page into 3 subplots, arranged in 2 rows and 2 columns,\n",
    "ax1 = fig.add_subplot(2,2,1)   \n",
    "ax2 = fig.add_subplot(2,2,2)\n",
    "ax3 = fig.add_subplot(2,2,3)\n",
    "\n",
    "# Step 3, first plot. Plot data into the first set of axes, stored as ax1 above\n",
    "## ENT data\n",
    "ax1.bar(location, enterococcus,    # <-- Bar plot using LOCATION for categories and ENTEROCOCCUS for values\n",
    "         label = sample_date)      # <-- NOTICE that the date we entered above is \n",
    "                                   #     used here to label these data in the legend                  \n",
    "\n",
    "ax1.axhline(y = ent_limit, label = 'EPA limit',\n",
    "            linewidth = 1, color = 'r')                  # Horizontal threshold line\n",
    "\n",
    "# Step 4. Clean up the plot (labels, change sizes as necesary, etc.)\n",
    "ax1.set_title('Enterococcus')                            # Set title\n",
    "ax1.set_ylabel('MPN')                                    # Set y-axis label\n",
    "ax1.legend()                                         # Create legend, using labels from the plot commands\n",
    "\n",
    "# Now we repeat steps 3 and 4 for the TC and FC data\n",
    "\n",
    "### TC (total coliform) data\n",
    "# For this plot, because the EPA limit is so high but \n",
    "# the observed values are so low, we will change the plot axes from linear to logarithmic \n",
    "ax2.bar(location, total_coliform, # <-- Bar plot using LOCATION for categories and TOTAL_COLIFORM for values\n",
    "         label = sample_date)                   # labeled with the string (text data) stored in sample_date\n",
    "\n",
    "ax2.axhline(y = tc_limit, label = 'EPA limit',\n",
    "            linewidth=1, color='r')                # Horizontal threshold line\n",
    "\n",
    "ax2.set_yscale(\"log\")    # <-- NOTICE we specify the log scale here\n",
    "ax2.set_title('Total Coliform')                    # Set title\n",
    "ax2.set_ylabel('MPN')                              # Set y-axis label\n",
    "\n",
    "#Fecal Coliform Plot\n",
    "ax3.bar(location, fecal_coliform, # <-- Bar plot using LOCATION for categories and Fecal_coliform for values\n",
    "         label = sample_date)                   # labeled with the string (text data) stored in sample_date\n",
    "\n",
    "ax3.axhline(y = fc_limit, label = 'EPA limit',\n",
    "            linewidth=1, color='r')                # Horizontal threshold line\n",
    "ax3.set_title('Fecal Coliform')                    # Set title\n",
    "ax3.set_ylabel('MPN')                              # Set y-axis label\n",
    "ax3.legend()\n",
    "\n",
    "# This should go last, so that the figure can be tidied up.\n",
    "fig.tight_layout()"
   ]
  },
  {
   "cell_type": "markdown",
   "metadata": {},
   "source": [
    "### Wave observations\n",
    "> While at the beach:\n",
    "> - **Estimate $\\theta$, the  direction that waves approach the beach**, just prior to breaking. Just eyeball it based on the videos.\n",
    ">\n",
    "> - **Estimate the breaking wave height** at each site by looking up the values observed at the Spotter wave buoy (link below). Normally we expect the waves on the east side of Campus Point to be smaller than the waves on the west side. In this case, the video looking east captured a nice set that came through (meaning the waves were bigger for a little bit) whereas the video looking west didn't record a set. So we'll just use the wave height from the buoy for both locations.\n",
    "> \n",
    "> - **Determine the peak period** at each site. Again, we'll use the Campus Point wave buoy. The peak period is derived using spectral analysis of a short time series of water level. You can read more about peak period and mean period [here](http://www.coastalwiki.org/wiki/Statistical_description_of_wave_parameters).\n",
    ">\n",
    ">The waves you observe will be a combination of wave periods; you will need to **plot a histogram of your observations** to find the peak wave period. \n",
    ">\n",
    "> In the *Analysis* section you will need to compare you observations to offshore wave conditions by looking up data from the NDBC mid-Channel Buoy (https://www.ndbc.noaa.gov/station_page.php?station=46053) and UCSB's Spotter wave buoy (use 0798 for this exercise) (https://coastlab.sofarocean.com/historical/SPOT-0798). "
   ]
  },
  {
   "cell_type": "markdown",
   "metadata": {},
   "source": [
    "*Place your estimates of shoreline direction and wave height, as well as the buoy observations, here. Enter the wave direction for the buoys and shoreline angle for the sampling sites*\n",
    "\n",
    "| Site | Date & Time  | Lat. (ºN) | Long. (ºE) | $H_s$ (m)| $T_p$ (s) | $\\theta$ or wave direction|\n",
    "| ---- | --------- | --------- | -------- | -------- |  ------- | ---    |\n",
    "|Depressions|13/01/2020 1300PST|34.4071|-119.8505|0.5|9.0|2|           \n",
    "|Campus Point|13/01/2020 1300PST|34.4052|-119.8438|0.2|16.0|30|     \n",
    "|Poles|13/01/2020 1300PST|34.4085|-119.8421|0.1|20.0|20|    \n",
    "|0798|29/01/2021 1305PST|34.3985|-119.8476|0.8686|14.6|41|\n",
    "|46053|29/01/2021 1256PST|32.517|-117.425|2.1|13|281|\n",
    "\n"
   ]
  },
  {
   "cell_type": "markdown",
   "metadata": {},
   "source": [
    "# Analysis\n",
    "\n",
    ">(30%) **Briefly describe the results.** In other words, describe what the graphs above show. For the Santa Barbara data provided as an example, I might say: \"Both enterococcus and total coliform were higher at Leadbetter Beach than East Beach. However, both sites were below the EPA regulated threshold for these indicator bacteria. The dominant wave energy was observed to have a peak period of 12 to 13 seconds. Wave conditions at Leadbetter and East Beach were similar, with wave heights of 0.3 m and mean periods of 8-9 seconds.\" \n",
    ">\n",
    "> Next, **provide a reasonable explanation** for any patterns that you observe, combining the water quality and wave parameters. In particular, think about the role that wave-driven currents may play in moving water around in the context of potential sources of pathogen pollution. Continuing from the previous example: \"Leadbetter may have higher indicator levels because there is limited wave activity on the east side of the headland, given the predominant wave direction from the west, and so along-shore currents are minimal.\" Additionally, describe the difference between the peak and mean wave direction. \n",
    ">\n",
    ">Finally, **compare/contrast your results** to the [observations made last winter](https://www.surfrider.org/blue-water-task-force/chapter/30) by the County and Surfrider Foundation (consider last winter to be from October 2019 to April 2020). What factors might contribute to the highly variable water quality between the Goleta Pier and Depressions sampling locations? Make a small table summarizing the range of observations at both locations. "
   ]
  },
  {
   "cell_type": "markdown",
   "metadata": {},
   "source": [
    "**Pathogen Results**\n",
    "\n",
    "> The three local sites that were tested were the UCSB Lagoon, Depressions Beach, and Campus Point. Enterococcus was recorded as absent at all 3 sites (~0 MPN). For Total Coliform volumes, the lagoon has the greatest, followed by Goleta Bay, then Campus Point (1153, 185, 97 MPN respectably). Each of the sites were below the Environmental Health Agency (EHA) threshold. Finally, Fecal Coliform values are above the threshold in the Lagoon, but not at the other sites. The lagoon has an FC MPN of 1187 compared to the 400MPN threshold. Campus Point and Goleta Bay had FC MPNs of 134 and 228 respectably. The high amount of FC in the lagoon is a result of its still water body, there is minimal drainage, and a constant input of fecal matter from surrounding wildlife. The lagoon, out of the three sites, would be the least safe for recreational use.\n",
    "\n",
    "**Wave Observations** \n",
    "\n",
    "> Campus Point, Depressions Beach, and Poles Beach were observed through human vision, with no sensor equipment. Buoy 0798 and 46053 have sensor equipment to determine accurate wave data. The values of each site differ for several reasons, aside from human error. Geographically, Depressions beach receives the least influenced wave currents (longshore drift), because Campus point is a point break, and causes a physical change in wave current and alike processes. The wave currents at Poles beach are affected by the wrapping of waves at campus point, and usually expose the leftovers from the point. Observed wave height at depressions was higher due to the large amount of sediment the waves push through, the friction impacts the height of the wave current. Campus point is mostly rocky, and acts as a sort of barrier to wave currents, so wave height here is variable throughout the year, and was observed to be less than 1ft or .35m. Since poles is upshore from the point, wave height here was lower. The observed water processes were more kinetic or dramatic at the point due to the point break. The weaker current upshore at poles, and subsequently goleta bay is less dramatic, and the pathogen volumes are higher here as a result. Depressions has a relatively balanced wave flux, the foam was often seen staying in the same place, but continued to mix with the incoming current. The constant mixing represents the lower pathogen values for this sight as well. \n",
    "\n",
    "**Buoy/Human/Variables**\n",
    "\n",
    "> When compared to the local Campus Point Buoy data, wave height, peak period, and angle of current slightly differed. The buoy is located slightly south of our human-observed point. This geographic difference represents the differences in the recorded data. The smaller wave angle, longer period, and similar wave height at the oberved site were on the other side of the point, oberving the dramatically influenced wave set previously discussed. The Depressions and Campus point sites were professionally tested about every 6 months, and will be compared to our data below. The data is provided by the Blue Water Task Force (BWTF), from the surfrider foundation and Santa Barbara County.\n",
    "\n"
   ]
  },
  {
   "cell_type": "markdown",
   "metadata": {},
   "source": [
    "| Site | Date & Time | Lat. (ºN) | Long. (ºE) | Enterococci (MPN) |\n",
    "| --- |  --- | --- | --- | --- |\n",
    "|Depressions|09/01/2021 1300PST|34.4071|-119.8505|0|\n",
    "|Depressions BWTF|08/01/2020 1640PST|34.4071|-119.8505|20|\n",
    "|Campus Point BWTF|08/01/2020 1000PST|34.405235|-119.843697|<10|\n"
   ]
  }
 ],
 "metadata": {
  "kernelspec": {
   "display_name": "Python 3",
   "language": "python",
   "name": "python3"
  },
  "language_info": {
   "codemirror_mode": {
    "name": "ipython",
    "version": 3
   },
   "file_extension": ".py",
   "mimetype": "text/x-python",
   "name": "python",
   "nbconvert_exporter": "python",
   "pygments_lexer": "ipython3",
   "version": "3.7.6"
  }
 },
 "nbformat": 4,
 "nbformat_minor": 4
}
