{
 "cells": [
  {
   "cell_type": "markdown",
   "metadata": {},
   "source": [
    "# Assignment 4.5\n",
    "#### Due Tuesday, March 16, 3pm\n",
    "\n",
    "Your final assignment/project is to create a Jupyter Notebook that explains coastal processes and potential sources of pollution to a coastal environment. This could be a beach that you grew up going to, an estuary that is formed at the mouth of the watershed that you live in, or somewhere that you've always wanted to visit. Imagine the notebook to be the draft material for creating an interpretive sign, or background research for an Environmental Impact Statement. \n",
    "\n",
    "The content of the notebook should reflect a synthesis of the course material. Note that our two main goals in this course were to:\n",
    "* Understand major factors impacting movement of water in coastal systems\n",
    "* Acquire basic knowledge about pollutants and their impacts in coastal ecosystems\n",
    "\n",
    "To that end, you should describe the physical mechanisms that are important in your system and describe any of the pollutant concerns that are present. If something is _not_ important, you should describe why not. \n",
    "\n",
    "### Specific requirements\n",
    "_Requirement 1. You cannot pick any location along the southern coast of Santa Barbara County (from Point Conception to the Ventura County line)._\n",
    "\n",
    "_Requirement 2. Your project must include all of the following elements:_ \n",
    "1. A map that clearly delineates the location you are studying. \n",
    "\n",
    "> You can make this map in Python if you choose, or use an image from Google Earth (or some other source of aerial imagery). _If you chose to insert an image, your image must include some sort of annotation that outlines the coastal ecosystem of interest._ In other words, simply pasting in an image all by itself is insufficient to receive full credit. Your annotations should clearly indicate the spatial extent of the region of interest as well as any relevant structures or places that may contribute to pathways of pollutants (i.e. storm drains, urbanized areas, streams, etc.)\n",
    "\n",
    "2. A summary table with the following columns and rows:\n",
    "\n",
    "Pollutant   | Main source | Main pathway | Ecosystem risk \n",
    "----------  | ----------- | ------------ | ---------------- \n",
    "Pathogens   |             |              |                  \n",
    "Nutrients   |             |              |                  \n",
    "Oil         |             |              |                 \n",
    "Plastics    |             |              |                 \n",
    "Chemicals   |             |              |                 \n",
    "\n",
    "> For each pollutant, summarize your best guess of: \n",
    ">    1. the main source of that pollutant to your ecosystem\n",
    ">    1. the main pathways for that pollutant\n",
    ">    1. the overall risk to the ecosystem on a scale of low, medium, or high\n",
    "    \n",
    "3. Descriptions of, and justifcations for, your summary points.\n",
    "> You should have *five* subsections, matching each of the rows above. Two to three concise paragraphs should be sufficient to convey the relevant information. Again, if there is no major source and thus a very low risk, you should still describe why this is the case (i.e. outline what major sources might be such that it's clear that these sources are not present). \n",
    "\n",
    "4. An overview of the major factors that contribute to the transport time of water through your ecosystem. \n",
    "> You should describe the releative importance of waves, river flow, tides, and wind in your ecosystem. One to two concise paragraphs is sufficient.\n",
    "\n",
    "5. A plot showing data of one of the elements in element 4. \n",
    "> Ideally, this plot would show the most important physical factor, while also providing some degree of synthesis. For example, we ahve looked at wind and wave data from buoys. While we can look at recent time series of wind speed, say, it is more informative to look at aggregated statistics over a long time period. Such historical and/or aggregated data might not be readiy available for your location, however, so it will suffice to show that you can find and plot recent time series data. You must produce this plot in Python and show your code in the Jupyter Notebook. Remember that it is 100% acceptable to take code from prior assignments and modify it for the new location. \n",
    "\n",
    "\n",
    "\n",
    "\n"
   ]
  },
  {
   "cell_type": "code",
   "execution_count": null,
   "metadata": {},
   "outputs": [],
   "source": [
    "# Be sure to include your code in the notebook. Submit your data file(s) along with your assignment"
   ]
  }
 ],
 "metadata": {
  "kernelspec": {
   "display_name": "Python 3",
   "language": "python",
   "name": "python3"
  },
  "language_info": {
   "codemirror_mode": {
    "name": "ipython",
    "version": 3
   },
   "file_extension": ".py",
   "mimetype": "text/x-python",
   "name": "python",
   "nbconvert_exporter": "python",
   "pygments_lexer": "ipython3",
   "version": "3.7.6"
  }
 },
 "nbformat": 4,
 "nbformat_minor": 4
}
